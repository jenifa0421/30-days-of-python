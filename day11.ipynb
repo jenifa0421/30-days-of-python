{
  "nbformat": 4,
  "nbformat_minor": 0,
  "metadata": {
    "colab": {
      "name": "day11.ipynb",
      "provenance": []
    },
    "kernelspec": {
      "name": "python3",
      "display_name": "Python 3"
    }
  },
  "cells": [
    {
      "cell_type": "markdown",
      "metadata": {
        "id": "cNaYnWFPRC7u"
      },
      "source": [
        "**1.write a python program using zip() and list() function,create a merged list of tuples from the two lists given**"
      ]
    },
    {
      "cell_type": "code",
      "metadata": {
        "colab": {
          "base_uri": "https://localhost:8080/"
        },
        "id": "3L1bCL7NRBY9",
        "outputId": "1c453ca0-b80e-4c29-ed7c-b95f700ababe"
      },
      "source": [
        "l1=[1,2,3,4]\n",
        "l2=['a','b','c','d']\n",
        "mergedlist=list(zip(l1,l2))\n",
        "print(mergedlist)"
      ],
      "execution_count": 5,
      "outputs": [
        {
          "output_type": "stream",
          "text": [
            "[(1, 'a'), (2, 'b'), (3, 'c'), (4, 'd')]\n"
          ],
          "name": "stdout"
        }
      ]
    },
    {
      "cell_type": "markdown",
      "metadata": {
        "id": "KsyDC1onSYWt"
      },
      "source": [
        "**2.first create a range from 1-8.Then using zip,merge the given list and range together to create a new list of tuples**\n",
        "**"
      ]
    },
    {
      "cell_type": "code",
      "metadata": {
        "colab": {
          "base_uri": "https://localhost:8080/"
        },
        "id": "AMijf-_8SZji",
        "outputId": "3305155d-ff9c-436b-9ea1-fc31baa450e6"
      },
      "source": [
        "l=list(range(1,9))\n",
        "l2=[]\n",
        "for i in range(1,9):\n",
        "  e=input()\n",
        "  l2.append(e)\n",
        "merged_list=list(zip(l,l2))\n",
        "print(merged_list)"
      ],
      "execution_count": 31,
      "outputs": [
        {
          "output_type": "stream",
          "text": [
            "a\n",
            "b\n",
            "c\n",
            "d\n",
            "e\n",
            "f\n",
            "g\n",
            "h\n",
            "[(1, 'a'), (2, 'b'), (3, 'c'), (4, 'd'), (5, 'e'), (6, 'f'), (7, 'g'), (8, 'h')]\n"
          ],
          "name": "stdout"
        }
      ]
    },
    {
      "cell_type": "markdown",
      "metadata": {
        "id": "sbPMBfWiSZ7l"
      },
      "source": [
        "**3.using sorted() sort the list in ascending order**\n"
      ]
    },
    {
      "cell_type": "code",
      "metadata": {
        "colab": {
          "base_uri": "https://localhost:8080/"
        },
        "id": "5qux1GB5Safa",
        "outputId": "4f004608-dca0-467f-84fd-a15feece83d8"
      },
      "source": [
        "x=list(range(10,0,-1))\n",
        "print(\"list before sorting\")\n",
        "print(x)\n",
        "y=sorted(x)\n",
        "print(\"list after sorting\")\n",
        "print(y)"
      ],
      "execution_count": 10,
      "outputs": [
        {
          "output_type": "stream",
          "text": [
            "list before sorting\n",
            "[10, 9, 8, 7, 6, 5, 4, 3, 2, 1]\n",
            "list after sorting\n",
            "[1, 2, 3, 4, 5, 6, 7, 8, 9, 10]\n"
          ],
          "name": "stdout"
        }
      ]
    },
    {
      "cell_type": "markdown",
      "metadata": {
        "id": "BNUej9kyTXT0"
      },
      "source": [
        "**4.write a program using filter function,filter the even numbers so that only odd numbers are passed to the new list**"
      ]
    },
    {
      "cell_type": "code",
      "metadata": {
        "colab": {
          "base_uri": "https://localhost:8080/"
        },
        "id": "DCaxofDfTqES",
        "outputId": "21c40b9f-c72c-4914-8b34-75c1924bd8b3"
      },
      "source": [
        "\n",
        "l=list(range(1,25,1))\n",
        "print(l)\n",
        "new_list=list(filter(lambda x:x%2!=0,l))\n",
        "print(\"After filtering even numbers the odd numbers in list are\")\n",
        "print(new_list)"
      ],
      "execution_count": 21,
      "outputs": [
        {
          "output_type": "stream",
          "text": [
            "[1, 2, 3, 4, 5, 6, 7, 8, 9, 10, 11, 12, 13, 14, 15, 16, 17, 18, 19, 20, 21, 22, 23, 24]\n",
            "After filtering even numbers the odd numbers in list are\n",
            "[1, 3, 5, 7, 9, 11, 13, 15, 17, 19, 21, 23]\n"
          ],
          "name": "stdout"
        }
      ]
    }
  ]
}