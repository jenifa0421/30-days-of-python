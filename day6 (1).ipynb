{
  "nbformat": 4,
  "nbformat_minor": 0,
  "metadata": {
    "colab": {
      "name": "day6.ipynb",
      "provenance": [],
      "collapsed_sections": [],
      "toc_visible": true
    },
    "kernelspec": {
      "name": "python3",
      "display_name": "Python 3"
    }
  },
  "cells": [
    {
      "cell_type": "code",
      "metadata": {
        "colab": {
          "base_uri": "https://localhost:8080/"
        },
        "id": "VWPntACl3JK-",
        "outputId": "3a3af346-9bbd-46a0-abb0-7772ebfd98f0"
      },
      "source": [
        "list1=[]\n",
        "n=int(input(\"enter no of elements\"))\n",
        "for i in range(0,n):\n",
        "    ele=int(input(\"enter element\"+str(i+1)+ \":\"))\n",
        "    list1.append(ele)\n",
        "print(list1)    \n",
        "res=[x+2 for x in list1]\n",
        "print(\"list after adding 2\")\n",
        "print(res)\n",
        "    \n",
        "  "
      ],
      "execution_count": 7,
      "outputs": [
        {
          "output_type": "stream",
          "text": [
            "enter no of elements5\n",
            "enter element1:1\n",
            "enter element2:2\n",
            "enter element3:3\n",
            "enter element4:4\n",
            "enter element5:5\n",
            "[1, 2, 3, 4, 5]\n",
            "list after adding 2\n",
            "[3, 4, 5, 6, 7]\n"
          ],
          "name": "stdout"
        }
      ]
    },
    {
      "cell_type": "code",
      "metadata": {
        "colab": {
          "base_uri": "https://localhost:8080/"
        },
        "id": "KR00lChh35GM",
        "outputId": "5bfa0322-5272-4400-dc8e-908722eaf898"
      },
      "source": [
        "n=5\n",
        "for i in range(n,0,-1):\n",
        "  for j in range(i,0,-1):\n",
        "    print(j,end=\"\")\n",
        "  print()"
      ],
      "execution_count": 28,
      "outputs": [
        {
          "output_type": "stream",
          "text": [
            "54321\n",
            "4321\n",
            "321\n",
            "21\n",
            "1\n"
          ],
          "name": "stdout"
        }
      ]
    },
    {
      "cell_type": "code",
      "metadata": {
        "colab": {
          "base_uri": "https://localhost:8080/"
        },
        "id": "AoK-hfaCAfR9",
        "outputId": "b705649b-3b73-417d-dd1d-9d69c86378e9"
      },
      "source": [
        "n=int(input(\"enter the length of sequence\"))\n",
        "a=0\n",
        "b=1\n",
        "while(a<n-1):\n",
        "  print(a)\n",
        "  print(b)\n",
        "  a=a+b\n",
        "  b=a+b"
      ],
      "execution_count": 29,
      "outputs": [
        {
          "output_type": "stream",
          "text": [
            "enter the length of sequence5\n",
            "0\n",
            "1\n",
            "1\n",
            "2\n",
            "3\n",
            "5\n"
          ],
          "name": "stdout"
        }
      ]
    },
    {
      "cell_type": "code",
      "metadata": {
        "colab": {
          "base_uri": "https://localhost:8080/"
        },
        "id": "XJ_cERNLF4yu",
        "outputId": "a5a7f429-caae-4497-cc6a-47ae84d2474e"
      },
      "source": [
        "num=int(input(\"enter a number :\"))\n",
        "sum=0;\n",
        "temp=num;\n",
        "while temp>0:\n",
        "  digit=temp%10\n",
        "  sum=sum+(digit ** 3)\n",
        "  temp//=10\n",
        "if num==sum:\n",
        "   print(num,\"is an armstrong number\")\n",
        "else:\n",
        "   print(num, \"is not an armstrong number\")"
      ],
      "execution_count": 32,
      "outputs": [
        {
          "output_type": "stream",
          "text": [
            "enter a number :153\n",
            "153 is an armstrong number\n"
          ],
          "name": "stdout"
        }
      ]
    },
    {
      "cell_type": "code",
      "metadata": {
        "colab": {
          "base_uri": "https://localhost:8080/"
        },
        "id": "FY-kky0PKdU1",
        "outputId": "14cda214-3361-497f-e060-0a63bfa9d584"
      },
      "source": [
        "n=int(input(\"enter a number\"))\n",
        "for i in range(1,11):\n",
        "    print(n ,   \"x\"    +str(i)+  \"=\",     i*n)"
      ],
      "execution_count": 42,
      "outputs": [
        {
          "output_type": "stream",
          "text": [
            "enter a number9\n",
            "9 x1= 9\n",
            "9 x2= 18\n",
            "9 x3= 27\n",
            "9 x4= 36\n",
            "9 x5= 45\n",
            "9 x6= 54\n",
            "9 x7= 63\n",
            "9 x8= 72\n",
            "9 x9= 81\n",
            "9 x10= 90\n"
          ],
          "name": "stdout"
        }
      ]
    },
    {
      "cell_type": "code",
      "metadata": {
        "colab": {
          "base_uri": "https://localhost:8080/"
        },
        "id": "eG6MtKWPL0UZ",
        "outputId": "7ddb8826-4889-43a8-f39a-406ebe13d3ea"
      },
      "source": [
        "n=int(input(\"enter a number\"))\n",
        "if n>=0:\n",
        "  print(\"postive number\")\n",
        "else:\n",
        "  print(\"negative number\")"
      ],
      "execution_count": 43,
      "outputs": [
        {
          "output_type": "stream",
          "text": [
            "enter a number5\n",
            "postive number\n"
          ],
          "name": "stdout"
        }
      ]
    },
    {
      "cell_type": "code",
      "metadata": {
        "colab": {
          "base_uri": "https://localhost:8080/"
        },
        "id": "HD_IdEYjMKSa",
        "outputId": "5be60d9c-2fa4-4068-a75f-341a7ec00a7c"
      },
      "source": [
        "n=int(input(\"enter the number of days :\"))\n",
        "age=n//365\n",
        "print(\"age is\",age)"
      ],
      "execution_count": 47,
      "outputs": [
        {
          "output_type": "stream",
          "text": [
            "enter the number of days :9490\n",
            "age is 26\n"
          ],
          "name": "stdout"
        }
      ]
    },
    {
      "cell_type": "code",
      "metadata": {
        "colab": {
          "base_uri": "https://localhost:8080/"
        },
        "id": "f9FScmjzNCQu",
        "outputId": "e7e63765-3aa6-45d9-c818-7ec921247076"
      },
      "source": [
        "import math\n",
        "a=math.pi/3\n",
        "b=3\n",
        "c=4\n",
        "print(\"The sine of pi/3 is :\",math.sin(a))\n",
        "print(\"The tangent of pi/3 is :\",math.sin(a))\n",
        "print(\"The cosine of pi/3 is :\",math.sin(a))\n",
        "print(\"The hypotenuse of b and c is :\",math.hypot(b,c))\n",
        "print(\"The degree of a is :\",math.degrees(a))\n",
        "print(\"The radians values from degree value b is :\",math.radians(b))\n"
      ],
      "execution_count": 50,
      "outputs": [
        {
          "output_type": "stream",
          "text": [
            "The sine of pi/3 is : 0.8660254037844386\n",
            "The tangent of pi/3 is : 0.8660254037844386\n",
            "The cosine of pi/3 is : 0.8660254037844386\n",
            "The hypotenuse of b and c is : 5.0\n",
            "The degree of a is : 59.99999999999999\n",
            "The radians values from degree value b is : 0.05235987755982989\n"
          ],
          "name": "stdout"
        }
      ]
    },
    {
      "cell_type": "code",
      "metadata": {
        "colab": {
          "base_uri": "https://localhost:8080/"
        },
        "id": "5nG_5GlyPAHv",
        "outputId": "1821291d-f8cc-48af-8714-30a53b9225fa"
      },
      "source": [
        "def add(a,b):\n",
        "    return a+b\n",
        " \n",
        "def sub(a,b):\n",
        "    return a-b\n",
        "\n",
        "def mul(a,b):\n",
        "  return a*b\n",
        "\n",
        "def div(a,b):\n",
        "  return a/b  \n",
        "\n",
        "a=int(input(\"emter number 1 :\"))\n",
        "b=int(input(\"enter number 2 :\"))\n",
        "op=int(input(\"enter operation you want to perfrom \\n1.Add \\n2.subtract\\n3.multiply \\n4.divide\\n\"))\n",
        "if op==1:\n",
        "  print(a,\"+\",b,\"=\",add(a,b))\n",
        "elif op==2:\n",
        "  print(a,\"-\",b,\"=\",sub(a,b))\n",
        "elif op==3:\n",
        "  print(a,\"*\",b,\"=\",mul(a,b))  \n",
        "elif op==4:\n",
        "  print(a,\"/\",b,\"=\",div(a,b)) \n",
        "else:\n",
        "  print(\"invalid input\")  "
      ],
      "execution_count": 56,
      "outputs": [
        {
          "output_type": "stream",
          "text": [
            "emter number 1 :4\n",
            "enter number 2 :21\n",
            "enter operation you want to perfrom \n",
            "1.Add \n",
            "2.subtract\n",
            "3.multiply \n",
            "4.divide\n",
            "3\n",
            "4 * 21 = 84\n"
          ],
          "name": "stdout"
        }
      ]
    }
  ]
}